{
 "cells": [
  {
   "cell_type": "code",
   "execution_count": null,
   "id": "1c24d63c",
   "metadata": {
    "scrolled": true
   },
   "outputs": [],
   "source": [
    "import cv2\n",
    "haar_data = cv2.CascadeClassifier('data.xml')\n",
    "capture = cv2.VideoCapture(0)\n",
    "while True:\n",
    "    flag, img = capture.read()\n",
    "    if flag:\n",
    "        faces = haar_data.detectMultiScale(img)\n",
    "        for x, y, w, h in faces:\n",
    "            cv2.rectangle(img, (x, y), (x + w, y + h), (255, 0, 255), 4)\n",
    "        cv2.imshow('Face Detection', img)\n",
    "        if cv2.waitKey(2) == 27:\n",
    "            break\n",
    "capture.release()\n",
    "cv2.destroyAllWindows()"
   ]
  },
  {
   "cell_type": "code",
   "execution_count": null,
   "id": "7881e455",
   "metadata": {},
   "outputs": [],
   "source": []
  }
 ],
 "metadata": {
  "kernelspec": {
   "display_name": "Python 3 (ipykernel)",
   "language": "python",
   "name": "python3"
  },
  "language_info": {
   "codemirror_mode": {
    "name": "ipython",
    "version": 3
   },
   "file_extension": ".py",
   "mimetype": "text/x-python",
   "name": "python",
   "nbconvert_exporter": "python",
   "pygments_lexer": "ipython3",
   "version": "3.10.9"
  }
 },
 "nbformat": 4,
 "nbformat_minor": 5
}
